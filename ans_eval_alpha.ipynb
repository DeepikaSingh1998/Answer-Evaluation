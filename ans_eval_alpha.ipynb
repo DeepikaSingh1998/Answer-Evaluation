{
  "nbformat": 4,
  "nbformat_minor": 0,
  "metadata": {
    "colab": {
      "name": "ans_eval_alpha.ipynb",
      "provenance": [],
      "collapsed_sections": []
    },
    "kernelspec": {
      "display_name": "Python 3",
      "name": "python3"
    }
  },
  "cells": [
    {
      "cell_type": "markdown",
      "metadata": {
        "id": "CMbf7VYTmUfq"
      },
      "source": [
        "Importing libraries"
      ]
    },
    {
      "cell_type": "code",
      "metadata": {
        "colab": {
          "base_uri": "https://localhost:8080/"
        },
        "id": "izpZizRymNUy",
        "outputId": "0fa00d39-5daf-4011-8abe-57a3aea0905c"
      },
      "source": [
        "!pip install -U gensim\n",
        "!pip install -U nltk\n",
        "!python -m nltk.downloader punkt #This tokenizer divides a text into a list of sentences, by using an unsupervised algorithm to build a model for abbreviation words, collocations, and words that start sentences.\n",
        "!python -m nltk.downloader stopwords"
      ],
      "execution_count": null,
      "outputs": [
        {
          "output_type": "stream",
          "text": [
            "Requirement already up-to-date: gensim in /usr/local/lib/python3.7/dist-packages (3.8.3)\n",
            "Requirement already satisfied, skipping upgrade: six>=1.5.0 in /usr/local/lib/python3.7/dist-packages (from gensim) (1.15.0)\n",
            "Requirement already satisfied, skipping upgrade: scipy>=0.18.1 in /usr/local/lib/python3.7/dist-packages (from gensim) (1.4.1)\n",
            "Requirement already satisfied, skipping upgrade: smart-open>=1.8.1 in /usr/local/lib/python3.7/dist-packages (from gensim) (4.2.0)\n",
            "Requirement already satisfied, skipping upgrade: numpy>=1.11.3 in /usr/local/lib/python3.7/dist-packages (from gensim) (1.19.5)\n",
            "Requirement already up-to-date: nltk in /usr/local/lib/python3.7/dist-packages (3.5)\n",
            "Requirement already satisfied, skipping upgrade: regex in /usr/local/lib/python3.7/dist-packages (from nltk) (2019.12.20)\n",
            "Requirement already satisfied, skipping upgrade: tqdm in /usr/local/lib/python3.7/dist-packages (from nltk) (4.41.1)\n",
            "Requirement already satisfied, skipping upgrade: click in /usr/local/lib/python3.7/dist-packages (from nltk) (7.1.2)\n",
            "Requirement already satisfied, skipping upgrade: joblib in /usr/local/lib/python3.7/dist-packages (from nltk) (1.0.1)\n",
            "/usr/lib/python3.7/runpy.py:125: RuntimeWarning: 'nltk.downloader' found in sys.modules after import of package 'nltk', but prior to execution of 'nltk.downloader'; this may result in unpredictable behaviour\n",
            "  warn(RuntimeWarning(msg))\n",
            "[nltk_data] Downloading package punkt to /root/nltk_data...\n",
            "[nltk_data]   Package punkt is already up-to-date!\n",
            "/usr/lib/python3.7/runpy.py:125: RuntimeWarning: 'nltk.downloader' found in sys.modules after import of package 'nltk', but prior to execution of 'nltk.downloader'; this may result in unpredictable behaviour\n",
            "  warn(RuntimeWarning(msg))\n",
            "[nltk_data] Downloading package stopwords to /root/nltk_data...\n",
            "[nltk_data]   Package stopwords is already up-to-date!\n"
          ],
          "name": "stdout"
        }
      ]
    },
    {
      "cell_type": "code",
      "metadata": {
        "colab": {
          "base_uri": "https://localhost:8080/"
        },
        "id": "kWoWQmRjNkmc",
        "outputId": "06109e74-a415-4fe2-ebbb-2deebd97ef7c"
      },
      "source": [
        "!pip install keras"
      ],
      "execution_count": null,
      "outputs": [
        {
          "output_type": "stream",
          "text": [
            "Requirement already satisfied: keras in /usr/local/lib/python3.7/dist-packages (2.4.3)\n",
            "Requirement already satisfied: scipy>=0.14 in /usr/local/lib/python3.7/dist-packages (from keras) (1.4.1)\n",
            "Requirement already satisfied: pyyaml in /usr/local/lib/python3.7/dist-packages (from keras) (3.13)\n",
            "Requirement already satisfied: h5py in /usr/local/lib/python3.7/dist-packages (from keras) (2.10.0)\n",
            "Requirement already satisfied: numpy>=1.9.1 in /usr/local/lib/python3.7/dist-packages (from keras) (1.19.5)\n",
            "Requirement already satisfied: six in /usr/local/lib/python3.7/dist-packages (from h5py->keras) (1.15.0)\n"
          ],
          "name": "stdout"
        }
      ]
    },
    {
      "cell_type": "code",
      "metadata": {
        "id": "mCwmyrk9nQ1j"
      },
      "source": [
        "import pandas as pd\n",
        "import numpy as np\n",
        "import nltk\n",
        "import re\n",
        "from nltk.corpus import stopwords\n",
        "from gensim.models import Word2Vec"
      ],
      "execution_count": null,
      "outputs": []
    },
    {
      "cell_type": "markdown",
      "metadata": {
        "id": "g4Mj7Jp-nByE"
      },
      "source": [
        "reading data"
      ]
    },
    {
      "cell_type": "code",
      "metadata": {
        "id": "FbxFz7aVnWJN"
      },
      "source": [
        "data=pd.read_csv(\"/content/drive/MyDrive/Colab Notebooks/data_ans_eval/training_set_rel3 - training_set_rel3.csv\")\n",
        "y=data['domain1_score']\n",
        "X=data.dropna(axis=1)#remove missing values\n",
        "X=X.drop(columns=['rater1_domain1','rater2_domain1'])#remove unnecessary docs."
      ],
      "execution_count": null,
      "outputs": []
    },
    {
      "cell_type": "code",
      "metadata": {
        "colab": {
          "base_uri": "https://localhost:8080/"
        },
        "id": "4sHXtGPC09fo",
        "outputId": "983fb6b8-0a26-4547-bfcf-966256df9d89"
      },
      "source": [
        "y.describe()"
      ],
      "execution_count": null,
      "outputs": [
        {
          "output_type": "execute_result",
          "data": {
            "text/plain": [
              "count    12976.000000\n",
              "mean         6.800247\n",
              "std          8.970705\n",
              "min          0.000000\n",
              "25%          2.000000\n",
              "50%          3.000000\n",
              "75%          8.000000\n",
              "max         60.000000\n",
              "Name: domain1_score, dtype: float64"
            ]
          },
          "metadata": {
            "tags": []
          },
          "execution_count": 57
        }
      ]
    },
    {
      "cell_type": "markdown",
      "metadata": {
        "id": "Cq6Q6Ocq1PpP"
      },
      "source": [
        "Preprocessing"
      ]
    },
    {
      "cell_type": "code",
      "metadata": {
        "id": "CErOO0Iiig9X"
      },
      "source": [
        "import spacy\n",
        "from spacy import attrs\n",
        "from spacy.language import Language\n",
        "from spacy.symbols import NOUN, PROPN, VERB\n",
        "from spacy.tokens import Doc, Span, Token\n",
        "nlp=spacy.load('en_core_web_sm')\n",
        "constants_={\n",
        "    'PERSON':['@PERSON',0],\n",
        "    'ORG': ['@ORGANIZATION',0],\n",
        "    'GPE': ['@LOCATION',0],\n",
        "    'MONEY':['@MONEY',0],\n",
        "    'TIME':['@TIME',0],\n",
        "    'DATE':['@DATE',0],\n",
        "    'PERCENT':['@PERCENT',0]\n",
        "}\n",
        "def preprocess(inp,ner_dict):\n",
        "  c=1\n",
        "  essay=nlp(inp)\n",
        "  for entity in essay.ents:\n",
        "    if entity.text in ner_dict.keys():\n",
        "      continue\n",
        "    if entity.label_ in constants_.keys():\n",
        "      x=constants_[entity.label_][1]+1\n",
        "      constants_[entity.label_][1]=x\n",
        "      ner_dict[entity.text]=constants_[entity.label_][0]+str(x)\n",
        "    else:\n",
        "      ner_dict[entity.text]='@Caps'+str(c)\n",
        "      c+=1\n",
        "  s=''\n",
        "  for i in ner_dict.keys():\n",
        "    inp=inp.replace(i,ner_dict[i],1)\n",
        "  return inp\n",
        "  "
      ],
      "execution_count": null,
      "outputs": []
    },
    {
      "cell_type": "code",
      "metadata": {
        "id": "0U2nLrxLmAyH",
        "colab": {
          "base_uri": "https://localhost:8080/"
        },
        "outputId": "5f44aef9-d90c-454b-8658-b677647c5e27"
      },
      "source": [
        "preprocess('''Apple Inc. is an American multinational technology company headquartered in Cupertino, California, that designs, develops and sells consumer electronics, computer software, and online services. It is considered one of the Big Tech technology companies, alongside Amazon, Google, Microsoft, and Facebook. The company's hardware products include the iPhone smartphone, the iPad tablet computer, the Mac personal computer, the iPod portable media player, the Apple Watch smartwatch, the Apple TV digital media player, the AirPods wireless earbuds and the HomePod smart speaker. Apple's software includes macOS, iOS, iPadOS, watchOS, and tvOS operating systems, the iTunes media player, the Safari web browser, the Shazam music identifier and the iLife and iWork creativity and productivity suites, as well as professional applications like Final Cut Pro, Logic Pro, and Xcode. ''',{})"
      ],
      "execution_count": null,
      "outputs": [
        {
          "output_type": "execute_result",
          "data": {
            "text/plain": [
              "[\"@ORGANIZATION1 is an @Caps1 multinational technology company headquartered in @LOCATION1, @LOCATION2, that designs, develops and sells consumer electronics, computer software, and online services. It is considered @Caps2 of the @ORGANIZATION2 technology companies, alongside @ORGANIZATION3, @ORGANIZATION4, @ORGANIZATION5, and @ORGANIZATION6. The company's hardware products include the @ORGANIZATION7 smartphone, the iPad tablet computer, the @ORGANIZATION8 personal computer, the iPod portable media player, the @ORGANIZATION9 smartwatch, the @ORGANIZATION10 TV digital media player, the @ORGANIZATION11 wireless earbuds and the @ORGANIZATION12 smart speaker. Apple's software includes @ORGANIZATION13, @LOCATION3, @ORGANIZATION14, and @PERSON1 operating systems, the @LOCATION4 media player, the @LOCATION5 web browser, the @Caps3 music identifier and the @Caps4 and @ORGANIZATION15 creativity and productivity suites, as well as professional applications like @Caps5, Logic Pro, and @ORGANIZATION16. \",\n",
              " {'AirPods': '@ORGANIZATION11',\n",
              "  'Amazon': '@ORGANIZATION3',\n",
              "  'American': '@Caps1',\n",
              "  'Apple': '@ORGANIZATION10',\n",
              "  'Apple Inc.': '@ORGANIZATION1',\n",
              "  'Apple Watch': '@ORGANIZATION9',\n",
              "  'Big Tech': '@ORGANIZATION2',\n",
              "  'California': '@LOCATION2',\n",
              "  'Cupertino': '@LOCATION1',\n",
              "  'Facebook': '@ORGANIZATION6',\n",
              "  'Final Cut Pro': '@Caps5',\n",
              "  'Google': '@ORGANIZATION4',\n",
              "  'HomePod': '@ORGANIZATION12',\n",
              "  'Mac': '@ORGANIZATION8',\n",
              "  'Microsoft': '@ORGANIZATION5',\n",
              "  'Safari': '@LOCATION5',\n",
              "  'Shazam': '@Caps3',\n",
              "  'Xcode': '@ORGANIZATION16',\n",
              "  'iLife': '@Caps4',\n",
              "  'iOS': '@LOCATION3',\n",
              "  'iPadOS, watchOS': '@ORGANIZATION14',\n",
              "  'iPhone': '@ORGANIZATION7',\n",
              "  'iTunes': '@LOCATION4',\n",
              "  'iWork': '@ORGANIZATION15',\n",
              "  'macOS': '@ORGANIZATION13',\n",
              "  'one': '@Caps2',\n",
              "  'tvOS': '@PERSON1'}]"
            ]
          },
          "metadata": {
            "tags": []
          },
          "execution_count": 59
        }
      ]
    },
    {
      "cell_type": "code",
      "metadata": {
        "id": "fh8NLofzHeqd"
      },
      "source": [
        "def getWordListfromEssay(essay,stopwords_):\n",
        "  essay=re.sub(\"[^a-zA-Z]\",\" \",essay) #removes special chars\n",
        "  words=essay.lower().split()\n",
        "  if stopwords_:\n",
        "    s=set(stopwords.words(\"english\")) # a set of all stopwords in english\n",
        "    words=[i for i in words if i not in s]\n",
        "  return words #a list of words with stopwords removed"
      ],
      "execution_count": null,
      "outputs": []
    },
    {
      "cell_type": "code",
      "metadata": {
        "id": "lcvh59P2xhG6"
      },
      "source": [
        "# getWordListfromEssay('This was mossad 101',False) #sample list of sentences"
      ],
      "execution_count": null,
      "outputs": []
    },
    {
      "cell_type": "code",
      "metadata": {
        "id": "GDLNlUhvJDq5"
      },
      "source": [
        "def getSentencefromEssay(essay,stopwords_):\n",
        "  tokenizer=nltk.data.load('tokenizers/punkt/english.pickle')\n",
        "  s=tokenizer.tokenize(essay.strip()) #tokenizes sentences from essay\n",
        "  sent_list=[]\n",
        "  for sent in s:\n",
        "    if len(sent)>0:\n",
        "      sent_list.append(getWordListfromEssay(sent,stopwords_))\n",
        "  return sent_list"
      ],
      "execution_count": null,
      "outputs": []
    },
    {
      "cell_type": "code",
      "metadata": {
        "id": "a-sCWSUCJDtv"
      },
      "source": [
        "def getFeatureVector(words,model,num_features):\n",
        "  feat_vec=np.zeros((num_features,),dtype=\"float32\")\n",
        "  n=0\n",
        "  index2word_set=set(model.wv.index2word)\n",
        "  for word in words:\n",
        "    if word in index2word_set:\n",
        "      n+=1\n",
        "      feat_vec=np.add(feat_vec,model[word])\n",
        "  feat_vec=np.divide(feat_vec,n)\n",
        "  return feat_vec"
      ],
      "execution_count": null,
      "outputs": []
    },
    {
      "cell_type": "code",
      "metadata": {
        "id": "KajnNbJLLPYL"
      },
      "source": [
        "def getAvgVec(essay,model,num_features):\n",
        "  c=0\n",
        "  essay_vec=np.zeros((len(essay),num_features),dtype=\"float32\")\n",
        "  for i in essay:\n",
        "    essay_vec[c]=getFeatureVector(i,model,num_features)\n",
        "    c+=1\n",
        "  return essay_vec"
      ],
      "execution_count": null,
      "outputs": []
    },
    {
      "cell_type": "markdown",
      "metadata": {
        "id": "b84lgrIHMUeU"
      },
      "source": [
        "sample LSTM"
      ]
    },
    {
      "cell_type": "code",
      "metadata": {
        "id": "JCbfICbdNLtr"
      },
      "source": [
        "from keras.layers import LSTM,Embedding,Dense,Dropout,Flatten\n",
        "from keras.models import Sequential,load_model,model_from_config\n",
        "\n",
        "def getModel():\n",
        "  model=Sequential() #since we are dealing with sequential data (text)\n",
        "  # #LSTM with 2 layers\n",
        "  # model.add(LSTM(300,dropout=0.4,recurrent_dropout=0.4,input_shape=[1,300],return_sequences=True))\n",
        "  # model.add(LSTM(64, recurrent_dropout=0.4))\n",
        "  # model.add(Dropout(0.5))#prevents from overfitting\n",
        "  # model.add(Dense(1,activation='relu'))#provides learning features from all combinations\n",
        "  # #dense layer is stacked after LSTM because: Many frameworks just give you the internal state  h  as output, so the dimensionality of this output is equals to the number of unit, which is propably not the dimensionality of your desired target.\n",
        "  model.add(LSTM(300,input_shape=[1,300],return_sequences=True))\n",
        "  model.add(LSTM(64))\n",
        "  model.add(Dropout(0.2))#prevents from overfitting\n",
        "  model.add(Dense(1,activation='relu'))#provides learning features from all combinations\n",
        "  model.compile(loss='mean_squared_error',optimizer='rmsprop',metrics=['mae'])\n",
        "  # #rmsprop: We always keep a moving average over the root mean squared (hence Rms) gradients, by which we divide the current gradient.\n",
        "  model.summary()\n",
        "  return model"
      ],
      "execution_count": null,
      "outputs": []
    },
    {
      "cell_type": "code",
      "metadata": {
        "id": "4izaG1MNCZbt"
      },
      "source": [
        "from sklearn.model_selection import train_test_split\n",
        "X, X_TEST, y, Y_TEST=train_test_split(X,y,test_size=0.2,random_state=0,shuffle=True)"
      ],
      "execution_count": null,
      "outputs": []
    },
    {
      "cell_type": "code",
      "metadata": {
        "colab": {
          "base_uri": "https://localhost:8080/"
        },
        "id": "H8ubFB56OtoX",
        "outputId": "7a6291b5-fd6f-41d2-aa10-0be22597b6f0"
      },
      "source": [
        "from sklearn.model_selection import KFold\n",
        "from sklearn.linear_model import LinearRegression\n",
        "from sklearn.metrics import cohen_kappa_score\n",
        "\n",
        "kf=KFold(n_splits=5,shuffle=True)\n",
        "results=[]\n",
        "y_pred_list=[]\n",
        "count=1\n",
        "for trainkf,validkf in kf.split(X):\n",
        "  print(\"\\n---------Fold{}----------\\n\".format(count))\n",
        "  X_valid,X_train,y_valid,y_train=X.iloc[validkf],X.iloc[trainkf],y.iloc[validkf],y.iloc[trainkf]\n",
        "  train_essays=X_train['essay']\n",
        "  valid_essays=X_valid['essay']\n",
        "  sentences=[]\n",
        "  for essay in train_essays:\n",
        "    sentences+=getSentencefromEssay(essay,True)\n",
        "  num_features=300\n",
        "  min_word_count=40\n",
        "  num_workers=4\n",
        "  context=10\n",
        "  downsampling=1e-3\n",
        "  print(\"Training Word2Vec Model...\")\n",
        "  model=Word2Vec(sentences,workers=num_workers,size=num_features,min_count=min_word_count,window=context,sample=downsampling)\n",
        "  model.init_sims(replace=True)\n",
        "  model.wv.save_word2vec_format('word2vecmodel.bin',binary=True)\n",
        "  clean_train_essays=[]\n",
        "  for essay_v in train_essays: \n",
        "    clean_train_essays.append(getWordListfromEssay(essay_v,True))\n",
        "  trainDataVecs=getAvgVec(clean_train_essays,model,num_features)\n",
        "  clean_valid_essays=[]\n",
        "  for essay_v in valid_essays:\n",
        "    clean_valid_essays.append(getWordListfromEssay(essay_v,True))\n",
        "  validDataVecs=getAvgVec(clean_valid_essays,model,num_features)#essay representations in 300 dimensions\n",
        "  trainDataVecs=np.array(trainDataVecs)\n",
        "  validDataVecs=np.array(validDataVecs)\n",
        "  trainDataVecs=np.reshape(trainDataVecs,(trainDataVecs.shape[0],1,trainDataVecs.shape[1]))#[[x1,x2...xn]] becomes[[[x1,x2,...xn]]]\n",
        "  validDataVecs=np.reshape(validDataVecs,(validDataVecs.shape[0],1,validDataVecs.shape[1]))\n",
        "  lstm_model=getModel()\n",
        "  lstm_model.fit(trainDataVecs,y_train,batch_size=64,epochs=50)#since batch size is 64, 2nd lstm layer ouputs a vector of size 64, 64 values for 62 rows of the dataset!\n",
        "  y_pred=lstm_model.predict(validDataVecs)\n",
        "  if count==5:\n",
        "    lstm_model.save('./model_weights/final_lstm.h5')\n",
        "  y_pred=np.around(y_pred)\n",
        "  result=cohen_kappa_score(y_valid.values,y_pred,weights='quadratic')\n",
        "  print(\"Kappa Score: {}\".format(result))\n",
        "  results.append(result)\n",
        "  count+=1\n"
      ],
      "execution_count": null,
      "outputs": [
        {
          "output_type": "stream",
          "text": [
            "\n",
            "---------Fold1----------\n",
            "\n",
            "Training Word2Vec Model...\n"
          ],
          "name": "stdout"
        },
        {
          "output_type": "stream",
          "text": [
            "/usr/local/lib/python3.7/dist-packages/ipykernel_launcher.py:8: DeprecationWarning: Call to deprecated `__getitem__` (Method will be removed in 4.0.0, use self.wv.__getitem__() instead).\n",
            "  \n"
          ],
          "name": "stderr"
        },
        {
          "output_type": "stream",
          "text": [
            "Model: \"sequential_5\"\n",
            "_________________________________________________________________\n",
            "Layer (type)                 Output Shape              Param #   \n",
            "=================================================================\n",
            "lstm_10 (LSTM)               (None, 1, 300)            721200    \n",
            "_________________________________________________________________\n",
            "lstm_11 (LSTM)               (None, 64)                93440     \n",
            "_________________________________________________________________\n",
            "dropout_5 (Dropout)          (None, 64)                0         \n",
            "_________________________________________________________________\n",
            "dense_5 (Dense)              (None, 1)                 65        \n",
            "=================================================================\n",
            "Total params: 814,705\n",
            "Trainable params: 814,705\n",
            "Non-trainable params: 0\n",
            "_________________________________________________________________\n",
            "Epoch 1/50\n",
            "130/130 [==============================] - 5s 15ms/step - loss: 86.0707 - mae: 4.9915\n",
            "Epoch 2/50\n",
            "130/130 [==============================] - 2s 15ms/step - loss: 41.8336 - mae: 3.4884\n",
            "Epoch 3/50\n",
            "130/130 [==============================] - 2s 15ms/step - loss: 32.0122 - mae: 3.2119\n",
            "Epoch 4/50\n",
            "130/130 [==============================] - 2s 15ms/step - loss: 22.6992 - mae: 2.8433\n",
            "Epoch 5/50\n",
            "130/130 [==============================] - 2s 15ms/step - loss: 20.5381 - mae: 2.7364\n",
            "Epoch 6/50\n",
            "130/130 [==============================] - 2s 15ms/step - loss: 16.9122 - mae: 2.4451\n",
            "Epoch 7/50\n",
            "130/130 [==============================] - 2s 14ms/step - loss: 15.8615 - mae: 2.3036\n",
            "Epoch 8/50\n",
            "130/130 [==============================] - 2s 15ms/step - loss: 13.4743 - mae: 2.1378\n",
            "Epoch 9/50\n",
            "130/130 [==============================] - 2s 15ms/step - loss: 11.5104 - mae: 1.9306\n",
            "Epoch 10/50\n",
            "130/130 [==============================] - 2s 15ms/step - loss: 9.5285 - mae: 1.7662\n",
            "Epoch 11/50\n",
            "130/130 [==============================] - 2s 15ms/step - loss: 7.8797 - mae: 1.6336\n",
            "Epoch 12/50\n",
            "130/130 [==============================] - 2s 15ms/step - loss: 7.8651 - mae: 1.6126\n",
            "Epoch 13/50\n",
            "130/130 [==============================] - 2s 15ms/step - loss: 7.8651 - mae: 1.5817\n",
            "Epoch 14/50\n",
            "130/130 [==============================] - 2s 14ms/step - loss: 7.6635 - mae: 1.5753\n",
            "Epoch 15/50\n",
            "130/130 [==============================] - 2s 14ms/step - loss: 7.8476 - mae: 1.5778\n",
            "Epoch 16/50\n",
            "130/130 [==============================] - 2s 15ms/step - loss: 7.0647 - mae: 1.5328\n",
            "Epoch 17/50\n",
            "130/130 [==============================] - 2s 15ms/step - loss: 7.1110 - mae: 1.5422\n",
            "Epoch 18/50\n",
            "130/130 [==============================] - 2s 15ms/step - loss: 7.7108 - mae: 1.5528\n",
            "Epoch 19/50\n",
            "130/130 [==============================] - 2s 15ms/step - loss: 7.2170 - mae: 1.5024\n",
            "Epoch 20/50\n",
            "130/130 [==============================] - 2s 15ms/step - loss: 6.6544 - mae: 1.4656\n",
            "Epoch 21/50\n",
            "130/130 [==============================] - 2s 15ms/step - loss: 6.3399 - mae: 1.4641\n",
            "Epoch 22/50\n",
            "130/130 [==============================] - 2s 15ms/step - loss: 7.1872 - mae: 1.4970\n",
            "Epoch 23/50\n",
            "130/130 [==============================] - 2s 15ms/step - loss: 6.6061 - mae: 1.4825\n",
            "Epoch 24/50\n",
            "130/130 [==============================] - 2s 15ms/step - loss: 6.8174 - mae: 1.4795\n",
            "Epoch 25/50\n",
            "130/130 [==============================] - 2s 15ms/step - loss: 6.6204 - mae: 1.4916\n",
            "Epoch 26/50\n",
            "130/130 [==============================] - 2s 15ms/step - loss: 5.9052 - mae: 1.4126\n",
            "Epoch 27/50\n",
            "130/130 [==============================] - 2s 15ms/step - loss: 6.6259 - mae: 1.4501\n",
            "Epoch 28/50\n",
            "130/130 [==============================] - 2s 15ms/step - loss: 6.5040 - mae: 1.4577\n",
            "Epoch 29/50\n",
            "130/130 [==============================] - 2s 15ms/step - loss: 6.2368 - mae: 1.4361\n",
            "Epoch 30/50\n",
            "130/130 [==============================] - 2s 15ms/step - loss: 6.3976 - mae: 1.4445\n",
            "Epoch 31/50\n",
            "130/130 [==============================] - 2s 14ms/step - loss: 6.1312 - mae: 1.4197\n",
            "Epoch 32/50\n",
            "130/130 [==============================] - 2s 15ms/step - loss: 5.5354 - mae: 1.3775\n",
            "Epoch 33/50\n",
            "130/130 [==============================] - 2s 15ms/step - loss: 5.8352 - mae: 1.3804\n",
            "Epoch 34/50\n",
            "130/130 [==============================] - 2s 15ms/step - loss: 5.3054 - mae: 1.3487\n",
            "Epoch 35/50\n",
            "130/130 [==============================] - 2s 15ms/step - loss: 5.5535 - mae: 1.3547\n",
            "Epoch 36/50\n",
            "130/130 [==============================] - 2s 15ms/step - loss: 5.9382 - mae: 1.3780\n",
            "Epoch 37/50\n",
            "130/130 [==============================] - 2s 15ms/step - loss: 5.7701 - mae: 1.3545\n",
            "Epoch 38/50\n",
            "130/130 [==============================] - 2s 15ms/step - loss: 5.5662 - mae: 1.3758\n",
            "Epoch 39/50\n",
            "130/130 [==============================] - 2s 14ms/step - loss: 5.1594 - mae: 1.3189\n",
            "Epoch 40/50\n",
            "130/130 [==============================] - 2s 15ms/step - loss: 5.8874 - mae: 1.3658\n",
            "Epoch 41/50\n",
            "130/130 [==============================] - 2s 15ms/step - loss: 5.8562 - mae: 1.3692\n",
            "Epoch 42/50\n",
            "130/130 [==============================] - 2s 15ms/step - loss: 5.8819 - mae: 1.3685\n",
            "Epoch 43/50\n",
            "130/130 [==============================] - 2s 15ms/step - loss: 5.1802 - mae: 1.3222\n",
            "Epoch 44/50\n",
            "130/130 [==============================] - 2s 15ms/step - loss: 5.7102 - mae: 1.3449\n",
            "Epoch 45/50\n",
            "130/130 [==============================] - 2s 15ms/step - loss: 5.4503 - mae: 1.3287\n",
            "Epoch 46/50\n",
            "130/130 [==============================] - 2s 14ms/step - loss: 5.2654 - mae: 1.3269\n",
            "Epoch 47/50\n",
            "130/130 [==============================] - 2s 15ms/step - loss: 5.3518 - mae: 1.3148\n",
            "Epoch 48/50\n",
            "130/130 [==============================] - 2s 15ms/step - loss: 5.1300 - mae: 1.3074\n",
            "Epoch 49/50\n",
            "130/130 [==============================] - 2s 15ms/step - loss: 5.1433 - mae: 1.2885\n",
            "Epoch 50/50\n",
            "130/130 [==============================] - 2s 15ms/step - loss: 5.5310 - mae: 1.3237\n",
            "Kappa Score: 0.9529204903987505\n",
            "\n",
            "---------Fold2----------\n",
            "\n",
            "Training Word2Vec Model...\n",
            "Model: \"sequential_6\"\n",
            "_________________________________________________________________\n",
            "Layer (type)                 Output Shape              Param #   \n",
            "=================================================================\n",
            "lstm_12 (LSTM)               (None, 1, 300)            721200    \n",
            "_________________________________________________________________\n",
            "lstm_13 (LSTM)               (None, 64)                93440     \n",
            "_________________________________________________________________\n",
            "dropout_6 (Dropout)          (None, 64)                0         \n",
            "_________________________________________________________________\n",
            "dense_6 (Dense)              (None, 1)                 65        \n",
            "=================================================================\n",
            "Total params: 814,705\n",
            "Trainable params: 814,705\n",
            "Non-trainable params: 0\n",
            "_________________________________________________________________\n",
            "Epoch 1/50\n",
            "130/130 [==============================] - 5s 15ms/step - loss: 77.9506 - mae: 4.8113\n",
            "Epoch 2/50\n",
            "130/130 [==============================] - 2s 15ms/step - loss: 35.3871 - mae: 3.2818\n",
            "Epoch 3/50\n",
            "130/130 [==============================] - 2s 15ms/step - loss: 26.8065 - mae: 3.0204\n",
            "Epoch 4/50\n",
            "130/130 [==============================] - 2s 15ms/step - loss: 22.8939 - mae: 2.8996\n",
            "Epoch 5/50\n",
            "130/130 [==============================] - 2s 14ms/step - loss: 19.3186 - mae: 2.6693\n",
            "Epoch 6/50\n",
            "130/130 [==============================] - 2s 15ms/step - loss: 18.1084 - mae: 2.5107\n",
            "Epoch 7/50\n",
            "130/130 [==============================] - 2s 14ms/step - loss: 14.9802 - mae: 2.2538\n",
            "Epoch 8/50\n",
            "130/130 [==============================] - 2s 15ms/step - loss: 12.9489 - mae: 2.0881\n",
            "Epoch 9/50\n",
            "130/130 [==============================] - 2s 15ms/step - loss: 10.6932 - mae: 1.9004\n",
            "Epoch 10/50\n",
            "130/130 [==============================] - 2s 14ms/step - loss: 9.6375 - mae: 1.7926\n",
            "Epoch 11/50\n",
            "130/130 [==============================] - 2s 14ms/step - loss: 9.8791 - mae: 1.7533\n",
            "Epoch 12/50\n",
            "130/130 [==============================] - 2s 15ms/step - loss: 8.8383 - mae: 1.6975\n",
            "Epoch 13/50\n",
            "130/130 [==============================] - 2s 15ms/step - loss: 8.1835 - mae: 1.6397\n",
            "Epoch 14/50\n",
            "130/130 [==============================] - 2s 15ms/step - loss: 7.4867 - mae: 1.5529\n",
            "Epoch 15/50\n",
            "130/130 [==============================] - 2s 15ms/step - loss: 7.6156 - mae: 1.5681\n",
            "Epoch 16/50\n",
            "130/130 [==============================] - 2s 15ms/step - loss: 7.6738 - mae: 1.5941\n",
            "Epoch 17/50\n",
            "130/130 [==============================] - 2s 15ms/step - loss: 7.5270 - mae: 1.5245\n",
            "Epoch 18/50\n",
            "130/130 [==============================] - 2s 15ms/step - loss: 7.0547 - mae: 1.5472\n",
            "Epoch 19/50\n",
            "130/130 [==============================] - 2s 15ms/step - loss: 6.8762 - mae: 1.4999\n",
            "Epoch 20/50\n",
            "130/130 [==============================] - 2s 15ms/step - loss: 6.7748 - mae: 1.4944\n",
            "Epoch 21/50\n",
            "130/130 [==============================] - 2s 15ms/step - loss: 7.6161 - mae: 1.5063\n",
            "Epoch 22/50\n",
            "130/130 [==============================] - 2s 15ms/step - loss: 6.5163 - mae: 1.4579\n",
            "Epoch 23/50\n",
            "130/130 [==============================] - 2s 15ms/step - loss: 6.0322 - mae: 1.4486\n",
            "Epoch 24/50\n",
            "130/130 [==============================] - 2s 15ms/step - loss: 6.4619 - mae: 1.4659\n",
            "Epoch 25/50\n",
            "130/130 [==============================] - 2s 15ms/step - loss: 6.3391 - mae: 1.4764\n",
            "Epoch 26/50\n",
            "130/130 [==============================] - 2s 15ms/step - loss: 5.8650 - mae: 1.4158\n",
            "Epoch 27/50\n",
            "130/130 [==============================] - 2s 15ms/step - loss: 6.0334 - mae: 1.4408\n",
            "Epoch 28/50\n",
            "130/130 [==============================] - 2s 15ms/step - loss: 5.5879 - mae: 1.3900\n",
            "Epoch 29/50\n",
            "130/130 [==============================] - 2s 15ms/step - loss: 5.6913 - mae: 1.3964\n",
            "Epoch 30/50\n",
            "130/130 [==============================] - 2s 15ms/step - loss: 5.5952 - mae: 1.3848\n",
            "Epoch 31/50\n",
            "130/130 [==============================] - 2s 15ms/step - loss: 5.6416 - mae: 1.3811\n",
            "Epoch 32/50\n",
            "130/130 [==============================] - 2s 15ms/step - loss: 5.6562 - mae: 1.3918\n",
            "Epoch 33/50\n",
            "130/130 [==============================] - 2s 15ms/step - loss: 5.4791 - mae: 1.3829\n",
            "Epoch 34/50\n",
            "130/130 [==============================] - 2s 15ms/step - loss: 5.0330 - mae: 1.3351\n",
            "Epoch 35/50\n",
            "130/130 [==============================] - 2s 15ms/step - loss: 5.2889 - mae: 1.3648\n",
            "Epoch 36/50\n",
            "130/130 [==============================] - 2s 15ms/step - loss: 5.0370 - mae: 1.3457\n",
            "Epoch 37/50\n",
            "130/130 [==============================] - 2s 15ms/step - loss: 5.7870 - mae: 1.3775\n",
            "Epoch 38/50\n",
            "130/130 [==============================] - 2s 15ms/step - loss: 5.2799 - mae: 1.3369\n",
            "Epoch 39/50\n",
            "130/130 [==============================] - 2s 15ms/step - loss: 5.2106 - mae: 1.3522\n",
            "Epoch 40/50\n",
            "130/130 [==============================] - 2s 15ms/step - loss: 5.0547 - mae: 1.3317\n",
            "Epoch 41/50\n",
            "130/130 [==============================] - 2s 15ms/step - loss: 4.7558 - mae: 1.2946\n",
            "Epoch 42/50\n",
            "130/130 [==============================] - 2s 15ms/step - loss: 5.2676 - mae: 1.3427\n",
            "Epoch 43/50\n",
            "130/130 [==============================] - 2s 15ms/step - loss: 5.2932 - mae: 1.3464\n",
            "Epoch 44/50\n",
            "130/130 [==============================] - 2s 15ms/step - loss: 5.0034 - mae: 1.3137\n",
            "Epoch 45/50\n",
            "130/130 [==============================] - 2s 15ms/step - loss: 5.2912 - mae: 1.3219\n",
            "Epoch 46/50\n",
            "130/130 [==============================] - 2s 15ms/step - loss: 4.4023 - mae: 1.2478\n",
            "Epoch 47/50\n",
            "130/130 [==============================] - 2s 15ms/step - loss: 4.8716 - mae: 1.2845\n",
            "Epoch 48/50\n",
            "130/130 [==============================] - 2s 15ms/step - loss: 4.8901 - mae: 1.2974\n",
            "Epoch 49/50\n",
            "130/130 [==============================] - 2s 15ms/step - loss: 4.4305 - mae: 1.2639\n",
            "Epoch 50/50\n",
            "130/130 [==============================] - 2s 15ms/step - loss: 4.7412 - mae: 1.2852\n",
            "Kappa Score: 0.9644241586001574\n",
            "\n",
            "---------Fold3----------\n",
            "\n",
            "Training Word2Vec Model...\n",
            "Model: \"sequential_7\"\n",
            "_________________________________________________________________\n",
            "Layer (type)                 Output Shape              Param #   \n",
            "=================================================================\n",
            "lstm_14 (LSTM)               (None, 1, 300)            721200    \n",
            "_________________________________________________________________\n",
            "lstm_15 (LSTM)               (None, 64)                93440     \n",
            "_________________________________________________________________\n",
            "dropout_7 (Dropout)          (None, 64)                0         \n",
            "_________________________________________________________________\n",
            "dense_7 (Dense)              (None, 1)                 65        \n",
            "=================================================================\n",
            "Total params: 814,705\n",
            "Trainable params: 814,705\n",
            "Non-trainable params: 0\n",
            "_________________________________________________________________\n",
            "Epoch 1/50\n",
            "130/130 [==============================] - 6s 15ms/step - loss: 88.9397 - mae: 5.1827\n",
            "Epoch 2/50\n",
            "130/130 [==============================] - 2s 15ms/step - loss: 38.8416 - mae: 3.2913\n",
            "Epoch 3/50\n",
            "130/130 [==============================] - 2s 15ms/step - loss: 28.5667 - mae: 2.9904\n",
            "Epoch 4/50\n",
            "130/130 [==============================] - 2s 15ms/step - loss: 25.4461 - mae: 2.9449\n",
            "Epoch 5/50\n",
            "130/130 [==============================] - 2s 15ms/step - loss: 19.8821 - mae: 2.6205\n",
            "Epoch 6/50\n",
            "130/130 [==============================] - 2s 15ms/step - loss: 18.9844 - mae: 2.4954\n",
            "Epoch 7/50\n",
            "130/130 [==============================] - 2s 15ms/step - loss: 16.2784 - mae: 2.3079\n",
            "Epoch 8/50\n",
            "130/130 [==============================] - 2s 15ms/step - loss: 12.3750 - mae: 2.0231\n",
            "Epoch 9/50\n",
            "130/130 [==============================] - 2s 15ms/step - loss: 10.4234 - mae: 1.8363\n",
            "Epoch 10/50\n",
            "130/130 [==============================] - 2s 15ms/step - loss: 9.3990 - mae: 1.7701\n",
            "Epoch 11/50\n",
            "130/130 [==============================] - 2s 16ms/step - loss: 8.9489 - mae: 1.7041\n",
            "Epoch 12/50\n",
            "130/130 [==============================] - 2s 15ms/step - loss: 8.0473 - mae: 1.6118\n",
            "Epoch 13/50\n",
            "130/130 [==============================] - 2s 15ms/step - loss: 7.9571 - mae: 1.6010\n",
            "Epoch 14/50\n",
            "130/130 [==============================] - 2s 15ms/step - loss: 7.6865 - mae: 1.5947\n",
            "Epoch 15/50\n",
            "130/130 [==============================] - 2s 15ms/step - loss: 8.2044 - mae: 1.5989\n",
            "Epoch 16/50\n",
            "130/130 [==============================] - 2s 15ms/step - loss: 7.5182 - mae: 1.5259\n",
            "Epoch 17/50\n",
            "130/130 [==============================] - 2s 15ms/step - loss: 7.4349 - mae: 1.5536\n",
            "Epoch 18/50\n",
            "130/130 [==============================] - 2s 15ms/step - loss: 6.5995 - mae: 1.4643\n",
            "Epoch 19/50\n",
            "130/130 [==============================] - 2s 15ms/step - loss: 7.1432 - mae: 1.4803\n",
            "Epoch 20/50\n",
            "130/130 [==============================] - 2s 15ms/step - loss: 6.4981 - mae: 1.4644\n",
            "Epoch 21/50\n",
            "130/130 [==============================] - 2s 15ms/step - loss: 6.9529 - mae: 1.4854\n",
            "Epoch 22/50\n",
            "130/130 [==============================] - 2s 15ms/step - loss: 6.6776 - mae: 1.4706\n",
            "Epoch 23/50\n",
            "130/130 [==============================] - 2s 15ms/step - loss: 6.1617 - mae: 1.4320\n",
            "Epoch 24/50\n",
            "130/130 [==============================] - 2s 15ms/step - loss: 5.8979 - mae: 1.3864\n",
            "Epoch 25/50\n",
            "130/130 [==============================] - 2s 15ms/step - loss: 5.6540 - mae: 1.3668\n",
            "Epoch 26/50\n",
            "130/130 [==============================] - 2s 15ms/step - loss: 6.2843 - mae: 1.4422\n",
            "Epoch 27/50\n",
            "130/130 [==============================] - 2s 15ms/step - loss: 6.4172 - mae: 1.4240\n",
            "Epoch 28/50\n",
            "130/130 [==============================] - 2s 15ms/step - loss: 5.8270 - mae: 1.4016\n",
            "Epoch 29/50\n",
            "130/130 [==============================] - 2s 15ms/step - loss: 5.8222 - mae: 1.3701\n",
            "Epoch 30/50\n",
            "130/130 [==============================] - 2s 15ms/step - loss: 6.2620 - mae: 1.4130\n",
            "Epoch 31/50\n",
            "130/130 [==============================] - 2s 15ms/step - loss: 5.4581 - mae: 1.3506\n",
            "Epoch 32/50\n",
            "130/130 [==============================] - 2s 15ms/step - loss: 5.7236 - mae: 1.3748\n",
            "Epoch 33/50\n",
            "130/130 [==============================] - 2s 15ms/step - loss: 5.5977 - mae: 1.3713\n",
            "Epoch 34/50\n",
            "130/130 [==============================] - 2s 15ms/step - loss: 5.6643 - mae: 1.3525\n",
            "Epoch 35/50\n",
            "130/130 [==============================] - 2s 15ms/step - loss: 5.4724 - mae: 1.3520\n",
            "Epoch 36/50\n",
            "130/130 [==============================] - 2s 15ms/step - loss: 5.3164 - mae: 1.3277\n",
            "Epoch 37/50\n",
            "130/130 [==============================] - 2s 15ms/step - loss: 5.1511 - mae: 1.3183\n",
            "Epoch 38/50\n",
            "130/130 [==============================] - 2s 15ms/step - loss: 5.3097 - mae: 1.3233\n",
            "Epoch 39/50\n",
            "130/130 [==============================] - 2s 15ms/step - loss: 5.0309 - mae: 1.2934\n",
            "Epoch 40/50\n",
            "130/130 [==============================] - 2s 15ms/step - loss: 5.0156 - mae: 1.2864\n",
            "Epoch 41/50\n",
            "130/130 [==============================] - 2s 15ms/step - loss: 5.3161 - mae: 1.3264\n",
            "Epoch 42/50\n",
            "130/130 [==============================] - 2s 15ms/step - loss: 4.9951 - mae: 1.2871\n",
            "Epoch 43/50\n",
            "130/130 [==============================] - 2s 15ms/step - loss: 4.7233 - mae: 1.2689\n",
            "Epoch 44/50\n",
            "130/130 [==============================] - 2s 15ms/step - loss: 5.4857 - mae: 1.2901\n",
            "Epoch 45/50\n",
            "130/130 [==============================] - 2s 15ms/step - loss: 4.7768 - mae: 1.2692\n",
            "Epoch 46/50\n",
            "130/130 [==============================] - 2s 15ms/step - loss: 5.1140 - mae: 1.3042\n",
            "Epoch 47/50\n",
            "130/130 [==============================] - 2s 15ms/step - loss: 5.1354 - mae: 1.2948\n",
            "Epoch 48/50\n",
            "130/130 [==============================] - 2s 15ms/step - loss: 4.3900 - mae: 1.2254\n",
            "Epoch 49/50\n",
            "130/130 [==============================] - 2s 15ms/step - loss: 4.8138 - mae: 1.2625\n",
            "Epoch 50/50\n",
            "130/130 [==============================] - 2s 15ms/step - loss: 4.6137 - mae: 1.2442\n",
            "Kappa Score: 0.9642449012736642\n",
            "\n",
            "---------Fold4----------\n",
            "\n",
            "Training Word2Vec Model...\n",
            "Model: \"sequential_8\"\n",
            "_________________________________________________________________\n",
            "Layer (type)                 Output Shape              Param #   \n",
            "=================================================================\n",
            "lstm_16 (LSTM)               (None, 1, 300)            721200    \n",
            "_________________________________________________________________\n",
            "lstm_17 (LSTM)               (None, 64)                93440     \n",
            "_________________________________________________________________\n",
            "dropout_8 (Dropout)          (None, 64)                0         \n",
            "_________________________________________________________________\n",
            "dense_8 (Dense)              (None, 1)                 65        \n",
            "=================================================================\n",
            "Total params: 814,705\n",
            "Trainable params: 814,705\n",
            "Non-trainable params: 0\n",
            "_________________________________________________________________\n",
            "Epoch 1/50\n",
            "130/130 [==============================] - 5s 15ms/step - loss: 85.1770 - mae: 5.0107\n",
            "Epoch 2/50\n",
            "130/130 [==============================] - 2s 15ms/step - loss: 35.6269 - mae: 3.2526\n",
            "Epoch 3/50\n",
            "130/130 [==============================] - 2s 15ms/step - loss: 27.2894 - mae: 3.0375\n",
            "Epoch 4/50\n",
            "130/130 [==============================] - 2s 15ms/step - loss: 23.5727 - mae: 2.9215\n",
            "Epoch 5/50\n",
            "130/130 [==============================] - 2s 15ms/step - loss: 20.5944 - mae: 2.7666\n",
            "Epoch 6/50\n",
            "130/130 [==============================] - 2s 15ms/step - loss: 18.2830 - mae: 2.5357\n",
            "Epoch 7/50\n",
            "130/130 [==============================] - 2s 15ms/step - loss: 15.8490 - mae: 2.3114\n",
            "Epoch 8/50\n",
            "130/130 [==============================] - 2s 15ms/step - loss: 13.5061 - mae: 2.1175\n",
            "Epoch 9/50\n",
            "130/130 [==============================] - 2s 15ms/step - loss: 10.1909 - mae: 1.8505\n",
            "Epoch 10/50\n",
            "130/130 [==============================] - 2s 15ms/step - loss: 9.7875 - mae: 1.7990\n",
            "Epoch 11/50\n",
            "130/130 [==============================] - 2s 15ms/step - loss: 8.1573 - mae: 1.6840\n",
            "Epoch 12/50\n",
            "130/130 [==============================] - 2s 15ms/step - loss: 9.1529 - mae: 1.7095\n",
            "Epoch 13/50\n",
            "130/130 [==============================] - 2s 15ms/step - loss: 8.1288 - mae: 1.6098\n",
            "Epoch 14/50\n",
            "130/130 [==============================] - 2s 15ms/step - loss: 7.4767 - mae: 1.5630\n",
            "Epoch 15/50\n",
            "130/130 [==============================] - 2s 15ms/step - loss: 7.2615 - mae: 1.5587\n",
            "Epoch 16/50\n",
            "130/130 [==============================] - 2s 15ms/step - loss: 7.5971 - mae: 1.5699\n",
            "Epoch 17/50\n",
            "130/130 [==============================] - 2s 15ms/step - loss: 8.0733 - mae: 1.5672\n",
            "Epoch 18/50\n",
            "130/130 [==============================] - 2s 15ms/step - loss: 7.4414 - mae: 1.5399\n",
            "Epoch 19/50\n",
            "130/130 [==============================] - 2s 15ms/step - loss: 6.9282 - mae: 1.4976\n",
            "Epoch 20/50\n",
            "130/130 [==============================] - 2s 15ms/step - loss: 7.8655 - mae: 1.5876\n",
            "Epoch 21/50\n",
            "130/130 [==============================] - 2s 15ms/step - loss: 7.3981 - mae: 1.5392\n",
            "Epoch 22/50\n",
            "130/130 [==============================] - 2s 15ms/step - loss: 7.0488 - mae: 1.5039\n",
            "Epoch 23/50\n",
            "130/130 [==============================] - 2s 15ms/step - loss: 7.0279 - mae: 1.4832\n",
            "Epoch 24/50\n",
            "130/130 [==============================] - 2s 15ms/step - loss: 6.8218 - mae: 1.4586\n",
            "Epoch 25/50\n",
            "130/130 [==============================] - 2s 15ms/step - loss: 6.3984 - mae: 1.4791\n",
            "Epoch 26/50\n",
            "130/130 [==============================] - 2s 15ms/step - loss: 6.4037 - mae: 1.4468\n",
            "Epoch 27/50\n",
            "130/130 [==============================] - 2s 15ms/step - loss: 6.1923 - mae: 1.4245\n",
            "Epoch 28/50\n",
            "130/130 [==============================] - 2s 15ms/step - loss: 6.5834 - mae: 1.4423\n",
            "Epoch 29/50\n",
            "130/130 [==============================] - 2s 15ms/step - loss: 6.6687 - mae: 1.4266\n",
            "Epoch 30/50\n",
            "130/130 [==============================] - 2s 15ms/step - loss: 6.2129 - mae: 1.4132\n",
            "Epoch 31/50\n",
            "130/130 [==============================] - 2s 15ms/step - loss: 6.3476 - mae: 1.4444\n",
            "Epoch 32/50\n",
            "130/130 [==============================] - 2s 15ms/step - loss: 6.5112 - mae: 1.3930\n",
            "Epoch 33/50\n",
            "130/130 [==============================] - 2s 15ms/step - loss: 5.9908 - mae: 1.3942\n",
            "Epoch 34/50\n",
            "130/130 [==============================] - 2s 15ms/step - loss: 5.9398 - mae: 1.3790\n",
            "Epoch 35/50\n",
            "130/130 [==============================] - 2s 15ms/step - loss: 5.5956 - mae: 1.3456\n",
            "Epoch 36/50\n",
            "130/130 [==============================] - 2s 15ms/step - loss: 5.8301 - mae: 1.3700\n",
            "Epoch 37/50\n",
            "130/130 [==============================] - 2s 15ms/step - loss: 5.7384 - mae: 1.3647\n",
            "Epoch 38/50\n",
            "130/130 [==============================] - 2s 15ms/step - loss: 5.0661 - mae: 1.3092\n",
            "Epoch 39/50\n",
            "130/130 [==============================] - 2s 15ms/step - loss: 5.4844 - mae: 1.3371\n",
            "Epoch 40/50\n",
            "130/130 [==============================] - 2s 15ms/step - loss: 5.4989 - mae: 1.3316\n",
            "Epoch 41/50\n",
            "130/130 [==============================] - 2s 16ms/step - loss: 5.3592 - mae: 1.3431\n",
            "Epoch 42/50\n",
            "130/130 [==============================] - 2s 15ms/step - loss: 5.4686 - mae: 1.3297\n",
            "Epoch 43/50\n",
            "130/130 [==============================] - 2s 15ms/step - loss: 5.6100 - mae: 1.3327\n",
            "Epoch 44/50\n",
            "130/130 [==============================] - 2s 15ms/step - loss: 5.5343 - mae: 1.3265\n",
            "Epoch 45/50\n",
            "130/130 [==============================] - 2s 15ms/step - loss: 5.3953 - mae: 1.3421\n",
            "Epoch 46/50\n",
            "130/130 [==============================] - 2s 15ms/step - loss: 5.0508 - mae: 1.3183\n",
            "Epoch 47/50\n",
            "130/130 [==============================] - 2s 15ms/step - loss: 5.2209 - mae: 1.3171\n",
            "Epoch 48/50\n",
            "130/130 [==============================] - 2s 15ms/step - loss: 5.0060 - mae: 1.2949\n",
            "Epoch 49/50\n",
            "130/130 [==============================] - 2s 15ms/step - loss: 5.2435 - mae: 1.3260\n",
            "Epoch 50/50\n",
            "130/130 [==============================] - 2s 15ms/step - loss: 5.2244 - mae: 1.3134\n",
            "Kappa Score: 0.967189448507396\n",
            "\n",
            "---------Fold5----------\n",
            "\n",
            "Training Word2Vec Model...\n",
            "Model: \"sequential_9\"\n",
            "_________________________________________________________________\n",
            "Layer (type)                 Output Shape              Param #   \n",
            "=================================================================\n",
            "lstm_18 (LSTM)               (None, 1, 300)            721200    \n",
            "_________________________________________________________________\n",
            "lstm_19 (LSTM)               (None, 64)                93440     \n",
            "_________________________________________________________________\n",
            "dropout_9 (Dropout)          (None, 64)                0         \n",
            "_________________________________________________________________\n",
            "dense_9 (Dense)              (None, 1)                 65        \n",
            "=================================================================\n",
            "Total params: 814,705\n",
            "Trainable params: 814,705\n",
            "Non-trainable params: 0\n",
            "_________________________________________________________________\n",
            "Epoch 1/50\n",
            "130/130 [==============================] - 5s 15ms/step - loss: 83.5068 - mae: 4.9489\n",
            "Epoch 2/50\n",
            "130/130 [==============================] - 2s 15ms/step - loss: 38.0745 - mae: 3.3759\n",
            "Epoch 3/50\n",
            "130/130 [==============================] - 2s 15ms/step - loss: 28.5811 - mae: 3.0509\n",
            "Epoch 4/50\n",
            "130/130 [==============================] - 2s 15ms/step - loss: 23.9099 - mae: 2.9301\n",
            "Epoch 5/50\n",
            "130/130 [==============================] - 2s 15ms/step - loss: 21.7313 - mae: 2.7787\n",
            "Epoch 6/50\n",
            "130/130 [==============================] - 2s 15ms/step - loss: 18.5378 - mae: 2.5172\n",
            "Epoch 7/50\n",
            "130/130 [==============================] - 2s 15ms/step - loss: 14.7554 - mae: 2.2511\n",
            "Epoch 8/50\n",
            "130/130 [==============================] - 2s 15ms/step - loss: 12.5795 - mae: 2.0768\n",
            "Epoch 9/50\n",
            "130/130 [==============================] - 2s 15ms/step - loss: 10.8707 - mae: 1.8998\n",
            "Epoch 10/50\n",
            "130/130 [==============================] - 2s 15ms/step - loss: 9.5633 - mae: 1.7538\n",
            "Epoch 11/50\n",
            "130/130 [==============================] - 2s 15ms/step - loss: 8.9111 - mae: 1.6706\n",
            "Epoch 12/50\n",
            "130/130 [==============================] - 2s 15ms/step - loss: 7.6725 - mae: 1.6235\n",
            "Epoch 13/50\n",
            "130/130 [==============================] - 2s 15ms/step - loss: 8.2502 - mae: 1.6412\n",
            "Epoch 14/50\n",
            "130/130 [==============================] - 2s 15ms/step - loss: 8.2763 - mae: 1.6108\n",
            "Epoch 15/50\n",
            "130/130 [==============================] - 2s 15ms/step - loss: 7.5599 - mae: 1.5836\n",
            "Epoch 16/50\n",
            "130/130 [==============================] - 2s 16ms/step - loss: 8.1542 - mae: 1.5915\n",
            "Epoch 17/50\n",
            "130/130 [==============================] - 2s 15ms/step - loss: 7.2074 - mae: 1.5160\n",
            "Epoch 18/50\n",
            "130/130 [==============================] - 2s 15ms/step - loss: 7.1568 - mae: 1.5230\n",
            "Epoch 19/50\n",
            "130/130 [==============================] - 2s 16ms/step - loss: 7.3880 - mae: 1.5430\n",
            "Epoch 20/50\n",
            "130/130 [==============================] - 2s 15ms/step - loss: 7.0551 - mae: 1.4924\n",
            "Epoch 21/50\n",
            "130/130 [==============================] - 2s 15ms/step - loss: 7.1259 - mae: 1.5089\n",
            "Epoch 22/50\n",
            "130/130 [==============================] - 2s 15ms/step - loss: 6.2342 - mae: 1.4388\n",
            "Epoch 23/50\n",
            "130/130 [==============================] - 2s 15ms/step - loss: 6.4217 - mae: 1.4436\n",
            "Epoch 24/50\n",
            "130/130 [==============================] - 2s 15ms/step - loss: 6.5124 - mae: 1.4620\n",
            "Epoch 25/50\n",
            "130/130 [==============================] - 2s 15ms/step - loss: 6.3496 - mae: 1.4505\n",
            "Epoch 26/50\n",
            "130/130 [==============================] - 2s 15ms/step - loss: 6.0451 - mae: 1.4070\n",
            "Epoch 27/50\n",
            "130/130 [==============================] - 2s 15ms/step - loss: 6.1979 - mae: 1.4358\n",
            "Epoch 28/50\n",
            "130/130 [==============================] - 2s 15ms/step - loss: 6.1620 - mae: 1.4136\n",
            "Epoch 29/50\n",
            "130/130 [==============================] - 2s 15ms/step - loss: 5.9204 - mae: 1.3981\n",
            "Epoch 30/50\n",
            "130/130 [==============================] - 2s 16ms/step - loss: 5.5996 - mae: 1.3745\n",
            "Epoch 31/50\n",
            "130/130 [==============================] - 2s 15ms/step - loss: 5.6686 - mae: 1.3839\n",
            "Epoch 32/50\n",
            "130/130 [==============================] - 2s 15ms/step - loss: 5.5244 - mae: 1.3584\n",
            "Epoch 33/50\n",
            "130/130 [==============================] - 2s 15ms/step - loss: 5.7649 - mae: 1.3753\n",
            "Epoch 34/50\n",
            "130/130 [==============================] - 2s 15ms/step - loss: 5.3745 - mae: 1.3536\n",
            "Epoch 35/50\n",
            "130/130 [==============================] - 2s 15ms/step - loss: 5.9793 - mae: 1.3871\n",
            "Epoch 36/50\n",
            "130/130 [==============================] - 2s 15ms/step - loss: 5.7114 - mae: 1.3724\n",
            "Epoch 37/50\n",
            "130/130 [==============================] - 2s 15ms/step - loss: 5.0786 - mae: 1.3134\n",
            "Epoch 38/50\n",
            "130/130 [==============================] - 2s 15ms/step - loss: 5.3385 - mae: 1.3171\n",
            "Epoch 39/50\n",
            "130/130 [==============================] - 2s 15ms/step - loss: 5.6003 - mae: 1.3386\n",
            "Epoch 40/50\n",
            "130/130 [==============================] - 2s 15ms/step - loss: 5.3482 - mae: 1.3226\n",
            "Epoch 41/50\n",
            "130/130 [==============================] - 2s 15ms/step - loss: 5.1058 - mae: 1.2928\n",
            "Epoch 42/50\n",
            "130/130 [==============================] - 2s 15ms/step - loss: 5.2787 - mae: 1.3515\n",
            "Epoch 43/50\n",
            "130/130 [==============================] - 2s 15ms/step - loss: 5.0420 - mae: 1.3130\n",
            "Epoch 44/50\n",
            "130/130 [==============================] - 2s 15ms/step - loss: 5.1508 - mae: 1.3140\n",
            "Epoch 45/50\n",
            "130/130 [==============================] - 2s 15ms/step - loss: 4.9831 - mae: 1.2915\n",
            "Epoch 46/50\n",
            "130/130 [==============================] - 2s 15ms/step - loss: 5.2225 - mae: 1.3073\n",
            "Epoch 47/50\n",
            "130/130 [==============================] - 2s 15ms/step - loss: 5.0495 - mae: 1.2786\n",
            "Epoch 48/50\n",
            "130/130 [==============================] - 2s 15ms/step - loss: 4.8068 - mae: 1.2609\n",
            "Epoch 49/50\n",
            "130/130 [==============================] - 2s 16ms/step - loss: 5.1917 - mae: 1.2780\n",
            "Epoch 50/50\n",
            "130/130 [==============================] - 2s 15ms/step - loss: 5.1824 - mae: 1.2941\n",
            "Kappa Score: 0.9689583979819618\n"
          ],
          "name": "stdout"
        }
      ]
    },
    {
      "cell_type": "markdown",
      "metadata": {
        "id": "wlBCrvcr8nmb"
      },
      "source": [
        "Testing the model"
      ]
    },
    {
      "cell_type": "code",
      "metadata": {
        "id": "jUb_oCC9gzp8"
      },
      "source": [
        "def predictor(test_essays,model,lstm_model):\n",
        "  clean_test_essays=[]\n",
        "  # test_essays=X_TEST['essay']\n",
        "  for essay_v in test_essays:\n",
        "    clean_test_essays.append(getWordListfromEssay(essay_v,True))\n",
        "  testDataVecs=getAvgVec(clean_test_essays,model,num_features)\n",
        "  testDataVecs=np.array(testDataVecs)\n",
        "  testDataVecs=np.reshape(testDataVecs,(testDataVecs.shape[0],1,testDataVecs.shape[1]))\n",
        "  y_pred=lstm_model.predict(testDataVecs)\n",
        "  y_pred=np.around(y_pred)\n",
        "  # y_pred=y_pred.ravel()\n",
        "  return y_pred"
      ],
      "execution_count": null,
      "outputs": []
    },
    {
      "cell_type": "code",
      "metadata": {
        "id": "iHeMqJA0Ott4",
        "colab": {
          "base_uri": "https://localhost:8080/"
        },
        "outputId": "684664e6-e35e-4d57-9ae3-e1017f8420ef"
      },
      "source": [
        "y_pred=predictor(list(X_TEST['essay']),model,lstm_model)"
      ],
      "execution_count": null,
      "outputs": [
        {
          "output_type": "stream",
          "text": [
            "/usr/local/lib/python3.7/dist-packages/ipykernel_launcher.py:8: DeprecationWarning: Call to deprecated `__getitem__` (Method will be removed in 4.0.0, use self.wv.__getitem__() instead).\n",
            "  \n"
          ],
          "name": "stderr"
        }
      ]
    },
    {
      "cell_type": "code",
      "metadata": {
        "colab": {
          "base_uri": "https://localhost:8080/",
          "height": 265
        },
        "id": "ALsUiImTOtvg",
        "outputId": "62d3f3b8-3eff-49e9-dcdd-e79114bdcf92"
      },
      "source": [
        "import matplotlib.pyplot as plt\n",
        "plt.scatter(range(2596),Y_TEST.values,c='r')\n",
        "plt.scatter(range(2596),y_pred.ravel(),c='g')\n",
        "plt.show()"
      ],
      "execution_count": null,
      "outputs": [
        {
          "output_type": "display_data",
          "data": {
            "image/png": "[encoded data removed]",
            "text/plain": [
              "<Figure size 432x288 with 1 Axes>"
            ]
          },
          "metadata": {
            "tags": [],
            "needs_background": "light"
          }
        }
      ]
    },
    {
      "cell_type": "code",
      "metadata": {
        "colab": {
          "base_uri": "https://localhost:8080/"
        },
        "id": "RnTJP83JDtTw",
        "outputId": "feaa1a38-c41e-437f-cc53-ce40fca8e000"
      },
      "source": [
        "cohen_kappa_score(Y_TEST.values,y_pred,weights='quadratic')"
      ],
      "execution_count": null,
      "outputs": [
        {
          "output_type": "execute_result",
          "data": {
            "text/plain": [
              "0.9615009500505286"
            ]
          },
          "metadata": {
            "tags": []
          },
          "execution_count": 71
        }
      ]
    },
    {
      "cell_type": "code",
      "metadata": {
        "id": "unPSaVIKBin4"
      },
      "source": [
        "def getWeightForKeyword(inp,keywords):\n",
        "  c=0\n",
        "  for i in keywords:\n",
        "    if i in inp:\n",
        "      print(i)\n",
        "      c+=1\n",
        "  return c/len(keywords)"
      ],
      "execution_count": null,
      "outputs": []
    },
    {
      "cell_type": "code",
      "metadata": {
        "colab": {
          "base_uri": "https://localhost:8080/"
        },
        "id": "CA6VfQO3GsBN",
        "outputId": "0128e6c4-866b-4741-edc4-431369e03beb"
      },
      "source": [
        "inp=input()\n",
        "'''Apple Inc. is an American multinational technology company headquartered in Cupertino, California, that designs, develops and sells consumer electronics, \n",
        "computer software, and online services. It is considered one of the Big Tech technology companies, alongside Amazon, Google, Microsoft, and Facebook. \n",
        "The company's hardware products include the iPhone smartphone, the iPad tablet computer, the Mac personal computer, the iPod portable media player, the Apple Watch \n",
        "smartwatch, the Apple TV digital media player, the AirPods wireless earbuds and the HomePod smart speaker. Apple's software includes macOS, iOS, iPadOS, watchOS, and \n",
        "tvOS operating systems, the iTunes media player, the Safari web browser, the Shazam music identifier and the iLife and iWork creativity and productivity suites, \n",
        "as well as professional applications like Final Cut Pro, Logic Pro, and Xcode. '''\n",
        "\n",
        "\n",
        "'''Elon Reeve Musk was born in 1971. He is a business magnate, industrial designer, and engineer. He is the founder, CEO, CTO, and chief designer of SpaceX, \n",
        "early investor, CEO, and product architect of Tesla, Inc. He is also the founder of The Boring Company; co-founder of Neuralink; and co-founder and initial \n",
        "co-chairman of OpenAI. A centibillionaire, Musk is one of the richest people in the world. Musk was born to a Canadian mother and South African father. \n",
        "He was raised in Pretoria, South Africa. He briefly attended the University of Pretoria. He later moved to Canada aged 17. He then attended Queen's University. \n",
        "He transferred to the University of Pennsylvania two years later. He received dual bachelor's degrees in economics and physics there. He moved to California in \n",
        "1995 for Stanford University. But he decided instead to pursue a business career. He then co-founded the web software company Zip2 with his brother Kimbal. \n",
        "The startup was acquired by Compaq for $307 million in 1999. Musk co-founded online bank X.com that same year. It merged with Confinity in 2000.  This later \n",
        "formed the company PayPal, PayPal was subsequently bought by eBay in 2002 for $1.5 billion.'''\n",
        "\n",
        "ner_dict={}\n",
        "keywords=['Apple','company','technology','Steve','Jobs','America','electronics','software']\n",
        "weight=getWeightForKeyword(inp,keywords)\n",
        "inp=preprocess(inp,ner_dict)\n",
        "y_pred=predictor(list(X_TEST['essay'])+[inp],model,lstm_model)\n",
        "print(\"Score: \",y_pred[-1]*weight)"
      ],
      "execution_count": null,
      "outputs": [
        {
          "output_type": "stream",
          "text": [
            "Elon Reeve Musk was born in 1971. He is a business magnate, industrial designer, and engineer. He is the founder, CEO, CTO, and chief designer of SpaceX,  early investor, CEO, and product architect of Tesla, Inc. He is also the founder of The Boring Company; co-founder of Neuralink; and co-founder and initial  co-chairman of OpenAI. A centibillionaire, Musk is one of the richest people in the world. Musk was born to a Canadian mother and South African father.  He was raised in Pretoria, South Africa. He briefly attended the University of Pretoria. He later moved to Canada aged 17. He then attended Queen's University.  He transferred to the University of Pennsylvania two years later. He received dual bachelor's degrees in economics and physics there. He moved to California in  1995 for Stanford University. But he decided instead to pursue a business career. He then co-founded the web software company Zip2 with his brother Kimbal.  The startup was acquired by Compaq for $307 million in 1999. Musk co-founded online bank X.com that same year. It merged with Confinity in 2000.  This later  formed the company PayPal, PayPal was subsequently bought by eBay in 2002 for $1.5 billion.\n",
            "company\n",
            "software\n"
          ],
          "name": "stdout"
        },
        {
          "output_type": "stream",
          "text": [
            "/usr/local/lib/python3.7/dist-packages/ipykernel_launcher.py:8: DeprecationWarning: Call to deprecated `__getitem__` (Method will be removed in 4.0.0, use self.wv.__getitem__() instead).\n",
            "  \n"
          ],
          "name": "stderr"
        },
        {
          "output_type": "stream",
          "text": [
            "Score:  [2.5]\n"
          ],
          "name": "stdout"
        }
      ]
    },
    {
      "cell_type": "code",
      "metadata": {
        "colab": {
          "base_uri": "https://localhost:8080/"
        },
        "id": "h919Ucp2PTXv",
        "outputId": "8010b4d1-5e8c-4e74-d3dd-f6bafc8d07bc"
      },
      "source": [
        "getWeightForKeyword(inp,keywords)"
      ],
      "execution_count": null,
      "outputs": [
        {
          "output_type": "stream",
          "text": [
            "Apple\n",
            "company\n",
            "technology\n",
            "electronics\n",
            "software\n"
          ],
          "name": "stdout"
        },
        {
          "output_type": "execute_result",
          "data": {
            "text/plain": [
              "0.625"
            ]
          },
          "metadata": {
            "tags": []
          },
          "execution_count": 86
        }
      ]
    },
    {
      "cell_type": "code",
      "metadata": {
        "colab": {
          "base_uri": "https://localhost:8080/"
        },
        "id": "UFfYvFkmQtTc",
        "outputId": "aff151ee-f600-4c95-a7ad-88170cf71b79"
      },
      "source": [
        "ner_dict"
      ],
      "execution_count": null,
      "outputs": [
        {
          "output_type": "execute_result",
          "data": {
            "text/plain": [
              "{'AirPods': '@ORGANIZATION27',\n",
              " 'Amazon': '@ORGANIZATION19',\n",
              " 'American': '@Caps1',\n",
              " 'Apple': '@ORGANIZATION26',\n",
              " 'Apple Inc.': '@ORGANIZATION17',\n",
              " 'Big Tech': '@ORGANIZATION18',\n",
              " 'California': '@LOCATION7',\n",
              " 'Cupertino': '@LOCATION6',\n",
              " 'Facebook': '@ORGANIZATION22',\n",
              " 'Final Cut Pro': '@Caps5',\n",
              " 'Google': '@ORGANIZATION20',\n",
              " 'HomePod': '@ORGANIZATION28',\n",
              " 'Mac': '@ORGANIZATION24',\n",
              " 'Microsoft': '@ORGANIZATION21',\n",
              " 'Safari': '@LOCATION10',\n",
              " 'Shazam': '@Caps3',\n",
              " 'Xcode': '@ORGANIZATION32',\n",
              " 'iLife': '@Caps4',\n",
              " 'iOS': '@LOCATION8',\n",
              " 'iPadOS, watchOS': '@ORGANIZATION30',\n",
              " 'iPhone': '@ORGANIZATION23',\n",
              " 'iTunes': '@LOCATION9',\n",
              " 'iWork': '@ORGANIZATION31',\n",
              " 'macOS': '@ORGANIZATION29',\n",
              " 'one': '@Caps2',\n",
              " 'the Apple Watch': '@ORGANIZATION25',\n",
              " 'tvOS': '@PERSON2'}"
            ]
          },
          "metadata": {
            "tags": []
          },
          "execution_count": 84
        }
      ]
    },
    {
      "cell_type": "code",
      "metadata": {
        "id": "WXDai6Flzk1B",
        "colab": {
          "base_uri": "https://localhost:8080/"
        },
        "outputId": "26cc0234-57b5-452a-9d45-86de3ca58760"
      },
      "source": [
        ""
      ],
      "execution_count": null,
      "outputs": [
        {
          "output_type": "execute_result",
          "data": {
            "text/plain": [
              "array([nan], dtype=float32)"
            ]
          },
          "metadata": {
            "tags": []
          },
          "execution_count": 39
        }
      ]
    },
    {
      "cell_type": "code",
      "metadata": {
        "id": "7-v1QMBQzlAF"
      },
      "source": [
        ""
      ],
      "execution_count": null,
      "outputs": []
    },
    {
      "cell_type": "code",
      "metadata": {
        "id": "L89hMwnmzlCH"
      },
      "source": [
        ""
      ],
      "execution_count": null,
      "outputs": []
    },
    {
      "cell_type": "code",
      "metadata": {
        "id": "TaR-D99OzlFx"
      },
      "source": [
        ""
      ],
      "execution_count": null,
      "outputs": []
    },
    {
      "cell_type": "code",
      "metadata": {
        "id": "fLtVlrj2Ot2G"
      },
      "source": [
        ""
      ],
      "execution_count": null,
      "outputs": []
    },
    {
      "cell_type": "code",
      "metadata": {
        "colab": {
          "base_uri": "https://localhost:8080/",
          "height": 229
        },
        "id": "XcN8hhjQOtqM",
        "outputId": "9551c166-277a-4bd0-9805-9027b91b3614"
      },
      "source": [
        "# print(\"Training Word2Vec model...\")\n",
        "# model=Word2Vec(sentences,workers=num_workers,size=num_features,min_count=min_word_count,window=contenxt,sample=downsampling)\n",
        "# model.init_sims(replace=True)\n",
        "# mode.wv.save_word2Vec_format('word2vecmodel.bin',binary=True)"
      ],
      "execution_count": null,
      "outputs": [
        {
          "output_type": "stream",
          "text": [
            "Training Word2Vec model...\n"
          ],
          "name": "stdout"
        },
        {
          "output_type": "error",
          "ename": "NameError",
          "evalue": "ignored",
          "traceback": [
            "\u001b[0;31m---------------------------------------------------------------------------\u001b[0m",
            "\u001b[0;31mNameError\u001b[0m                                 Traceback (most recent call last)",
            "\u001b[0;32m<ipython-input-19-d410f482ec50>\u001b[0m in \u001b[0;36m<module>\u001b[0;34m()\u001b[0m\n\u001b[1;32m      1\u001b[0m \u001b[0mprint\u001b[0m\u001b[0;34m(\u001b[0m\u001b[0;34m\"Training Word2Vec model...\"\u001b[0m\u001b[0;34m)\u001b[0m\u001b[0;34m\u001b[0m\u001b[0;34m\u001b[0m\u001b[0m\n\u001b[0;32m----> 2\u001b[0;31m \u001b[0mmodel\u001b[0m\u001b[0;34m=\u001b[0m\u001b[0mWord2Vec\u001b[0m\u001b[0;34m(\u001b[0m\u001b[0msentences\u001b[0m\u001b[0;34m,\u001b[0m\u001b[0mworkers\u001b[0m\u001b[0;34m=\u001b[0m\u001b[0mnum_workers\u001b[0m\u001b[0;34m,\u001b[0m\u001b[0msize\u001b[0m\u001b[0;34m=\u001b[0m\u001b[0mnum_features\u001b[0m\u001b[0;34m,\u001b[0m\u001b[0mmin_count\u001b[0m\u001b[0;34m=\u001b[0m\u001b[0mmin_word_count\u001b[0m\u001b[0;34m,\u001b[0m\u001b[0mwindow\u001b[0m\u001b[0;34m=\u001b[0m\u001b[0mcontenxt\u001b[0m\u001b[0;34m,\u001b[0m\u001b[0msample\u001b[0m\u001b[0;34m=\u001b[0m\u001b[0mdownsampling\u001b[0m\u001b[0;34m)\u001b[0m\u001b[0;34m\u001b[0m\u001b[0;34m\u001b[0m\u001b[0m\n\u001b[0m\u001b[1;32m      3\u001b[0m \u001b[0mmodel\u001b[0m\u001b[0;34m.\u001b[0m\u001b[0minit_sims\u001b[0m\u001b[0;34m(\u001b[0m\u001b[0mreplace\u001b[0m\u001b[0;34m=\u001b[0m\u001b[0;32mTrue\u001b[0m\u001b[0;34m)\u001b[0m\u001b[0;34m\u001b[0m\u001b[0;34m\u001b[0m\u001b[0m\n\u001b[1;32m      4\u001b[0m \u001b[0mmode\u001b[0m\u001b[0;34m.\u001b[0m\u001b[0mwv\u001b[0m\u001b[0;34m.\u001b[0m\u001b[0msave_word2Vec_format\u001b[0m\u001b[0;34m(\u001b[0m\u001b[0;34m'word2vecmodel.bin'\u001b[0m\u001b[0;34m,\u001b[0m\u001b[0mbinary\u001b[0m\u001b[0;34m=\u001b[0m\u001b[0;32mTrue\u001b[0m\u001b[0;34m)\u001b[0m\u001b[0;34m\u001b[0m\u001b[0;34m\u001b[0m\u001b[0m\n",
            "\u001b[0;31mNameError\u001b[0m: name 'contenxt' is not defined"
          ]
        }
      ]
    }
  ]
}